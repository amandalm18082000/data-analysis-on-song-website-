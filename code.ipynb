{
 "cells": [
  {
   "cell_type": "markdown",
   "id": "130806ba",
   "metadata": {},
   "source": [
    "# SoundCloud Project"
   ]
  },
  {
   "cell_type": "markdown",
   "id": "e0347133",
   "metadata": {},
   "source": [
    "# Part 1: Data Collecting"
   ]
  },
  {
   "cell_type": "markdown",
   "id": "228ec3f4",
   "metadata": {},
   "source": [
    "## I. Data Collecting by API\n",
    "\n",
    "#### General: Collecting user, playlist and track data on Soundcloud\n",
    "#### Notes: The assignment of tasks in each stage is different, so there will be some members who do not participate in this stage "
   ]
  },
  {
   "cell_type": "markdown",
   "id": "76c60aa7",
   "metadata": {},
   "source": [
    "**Member lists**\n",
    "\n",
    "|Full Name|MSSV|Tasks|Contribution \n",
    "| :------ | :---: | :--------- | :--------------------------\n",
    "|Lâm Thị Xuân Thy|20127082|Thu thập dữ liệu users, tracks, playlists bằng API, tiền xử lý dữ liệu và phân tích câu 4 và câu 6|100%\n",
    "|Đào Ngọc Hoa|20127500|Thu thập dữ liệu playlists, tracks bằng parse HTML, Tiền xử lý dữ liệu và phân tích câu 1 và câu 2|100%\n",
    "|Nguyễn Phước Gia Huy|20127038|Thu thập dữ liệu users bằng parse HTML (chỉ lấy được link), Tiền xử lý và phân tích câu 7|100%\n",
    "|Trần Thị Bảo Hương|20127514|Tiền xử lý và phân tích câu 5|100%\n",
    "|Lương Trường Thịnh|19120315|Tiền xử lý và phân tích câu 3|100%"
   ]
  },
  {
   "cell_type": "markdown",
   "id": "bca1ac43",
   "metadata": {},
   "source": [
    "## Import library\n",
    "#### Libraries are used in program."
   ]
  },
  {
   "cell_type": "code",
   "execution_count": null,
   "id": "de936299",
   "metadata": {},
   "outputs": [],
   "source": [
    "import requests\n",
    "import csv\n",
    "import pandas as pd\n",
    "import requests_cache\n",
    "from bs4 import BeautifulSoup\n",
    "import time\n",
    "import json\n",
    "import re\n",
    "import datetime\n",
    "import pandas as pd # Dùng để đọc và hiển thị file csv/tsv\n",
    "import urllib.robotparser # Kiểm tra file robot.txt có được phép crawl không"
   ]
  },
  {
   "cell_type": "code",
   "execution_count": null,
   "id": "72426a3a",
   "metadata": {},
   "outputs": [],
   "source": [
    "track_lists = []"
   ]
  },
  {
   "cell_type": "markdown",
   "id": "46c9fd57",
   "metadata": {},
   "source": [
    "#### - In project we collect all atributes of users and playlists which are relative to users that are collected. The tracks we collected include tracks which users have in their playlists and the others.\n",
    "#### - Users data will be recorded in user.csv\n",
    "#### - Playlists data will be recorded in playlists.csv\n",
    "#### - Tracks data will be recorded in tracks.csv"
   ]
  },
  {
   "cell_type": "markdown",
   "id": "928b380c",
   "metadata": {},
   "source": [
    "### 1. Collecting data \"User\""
   ]
  },
  {
   "cell_type": "code",
   "execution_count": null,
   "id": "2be16f2b",
   "metadata": {},
   "outputs": [],
   "source": [
    "url = \"https://api-v2.soundcloud.com/tracks/193781466/likers?&limit=1000&client_id=8m4K5d2x4mNmUHLhLmsGq9vxE3dDkxCm\"\n",
    "resp = requests.get(url)\n",
    "while resp.ok == False:\n",
    "    resp = requests.get(url)\n",
    "resp.encoding='utf-8-sig'\n",
    "content = resp.text.encode().decode('utf-8-sig')\n",
    "data = json.loads(content)"
   ]
  },
  {
   "cell_type": "code",
   "execution_count": null,
   "id": "1707e459",
   "metadata": {},
   "outputs": [],
   "source": [
    "data = data['collection']"
   ]
  },
  {
   "cell_type": "code",
   "execution_count": null,
   "id": "55e2d567",
   "metadata": {},
   "outputs": [],
   "source": [
    "csv_file = 'user.csv'\n",
    "csv_columns = data[0].keys() \n",
    "try:\n",
    "    with open(csv_file, 'w') as csvfile:\n",
    "        writer = csv.DictWriter(csvfile, fieldnames=csv_columns)\n",
    "        writer.writeheader()\n",
    "        for i in data:\n",
    "            writer.writerow(i)\n",
    "except IOError:\n",
    "    print(\"I/O error\")"
   ]
  },
  {
   "cell_type": "markdown",
   "id": "9bdc0618",
   "metadata": {},
   "source": [
    "### 2. Collecting data \"Playlists\""
   ]
  },
  {
   "cell_type": "code",
   "execution_count": null,
   "id": "76583a0b",
   "metadata": {},
   "outputs": [],
   "source": [
    "user = pd.read_csv('user.csv')"
   ]
  },
  {
   "cell_type": "code",
   "execution_count": null,
   "id": "bfdce4c0",
   "metadata": {},
   "outputs": [],
   "source": [
    "list_id = []\n",
    "for index, row in user.iterrows():\n",
    "    if row['playlist_count'] != 0:\n",
    "        list_id.append(row['id'])"
   ]
  },
  {
   "cell_type": "code",
   "execution_count": null,
   "id": "704de74c",
   "metadata": {},
   "outputs": [],
   "source": [
    "dist_ = []\n",
    "for i in list_id:\n",
    "    url = \"https://api-v2.soundcloud.com/users/\" + str(i) \n",
    "    y = '/playlists_without_albums?client_id=8m4K5d2x4mNmUHLhLmsGq9vxE3dDkxCm&limit=1000'\n",
    "    url = url + y\n",
    "    resp = requests.get(url)\n",
    "    while resp.ok == False:\n",
    "        resp = requests.get(url)\n",
    "    resp.encoding='utf-8-sig'\n",
    "    content = resp.text.encode().decode('utf-8-sig')\n",
    "    data = json.loads(content)\n",
    "    dist_.append(data)"
   ]
  },
  {
   "cell_type": "code",
   "execution_count": null,
   "id": "17e1f23b",
   "metadata": {},
   "outputs": [],
   "source": [
    "list_user = []\n",
    "for i in dist_:\n",
    "    list_user.append(i['collection'])"
   ]
  },
  {
   "cell_type": "code",
   "execution_count": null,
   "id": "b9e75dd6",
   "metadata": {},
   "outputs": [],
   "source": [
    "def list_tracks(tracks):\n",
    "    list_tracks = []\n",
    "    for i in tracks:\n",
    "        track = {}\n",
    "        if 'publisher_metadata' in i:\n",
    "            temp = i['publisher_metadata']\n",
    "            track.setdefault('id_song', temp['id'])\n",
    "            track.setdefault('')\n",
    "    return list_tracks"
   ]
  },
  {
   "cell_type": "code",
   "execution_count": null,
   "id": "7bfff698",
   "metadata": {},
   "outputs": [],
   "source": [
    "def return_list_in_tracks(tracks):\n",
    "    list_tracks = []\n",
    "    for i in tracks:\n",
    "        track_lists.append(i)\n",
    "        list_tracks.append(i['id'])\n",
    "    return list_tracks"
   ]
  },
  {
   "cell_type": "code",
   "execution_count": null,
   "id": "c5e03ed3",
   "metadata": {},
   "outputs": [],
   "source": [
    "def standard_playlist_in_users(user):\n",
    "    playlist = []\n",
    "    for i in user:\n",
    "        each = []\n",
    "        id_playlist = i['id']\n",
    "        name_playlist = i['title']\n",
    "        tracks = return_list_in_tracks(i['tracks'])\n",
    "        each.append(id_playlist)\n",
    "        each.append(name_playlist) \n",
    "        each.append(tracks)\n",
    "        playlist.append(each)\n",
    "    return playlist\n",
    "        \n",
    "        "
   ]
  },
  {
   "cell_type": "code",
   "execution_count": null,
   "id": "1ca42366",
   "metadata": {},
   "outputs": [],
   "source": [
    "pay = {}\n",
    "for i in range(0 , len(list_user)):\n",
    "    if list_user[i] != []:\n",
    "        user_id = list_user[i][0]['user_id']\n",
    "        pay.setdefault(user_id, standard_playlist_in_users(list_user[i]))"
   ]
  },
  {
   "cell_type": "code",
   "execution_count": null,
   "id": "820f28b3",
   "metadata": {},
   "outputs": [],
   "source": [
    "results = []\n",
    "for i in pay:\n",
    "    for each in pay[i]:\n",
    "        temp = {}\n",
    "        temp.setdefault('user_id', i)\n",
    "        temp.setdefault('playlist_id', each[0])\n",
    "        temp.setdefault('playlist_name', each[1])\n",
    "        temp.setdefault('list_tracks', str(each[2]))\n",
    "        results.append(temp)"
   ]
  },
  {
   "cell_type": "code",
   "execution_count": null,
   "id": "bb2d6366",
   "metadata": {},
   "outputs": [],
   "source": [
    "csv_file = 'playlists.csv'\n",
    "csv_columns = ['user_id', 'playlist_id', 'playlist_name', 'list_tracks']\n",
    "try:\n",
    "    with open(csv_file, 'w') as csvfile:\n",
    "        writer = csv.DictWriter(csvfile, fieldnames=csv_columns)\n",
    "        writer.writeheader()\n",
    "        for i in results:\n",
    "            writer.writerow(i)\n",
    "except IOError:\n",
    "    print(\"I/O error\")"
   ]
  },
  {
   "cell_type": "markdown",
   "id": "8c96964c",
   "metadata": {},
   "source": [
    "### 3. Collecting data \"Tracks\""
   ]
  },
  {
   "cell_type": "code",
   "execution_count": null,
   "id": "9b9c1768",
   "metadata": {},
   "outputs": [],
   "source": [
    "csv_file = 'tracks.csv'\n",
    "csv_columns = track_lists[0].keys()\n",
    "try:\n",
    "    with open(csv_file, 'w') as csvfile:\n",
    "        writer = csv.DictWriter(csvfile, fieldnames=csv_columns)\n",
    "        writer.writeheader()\n",
    "        for i in track_lists:\n",
    "            writer.writerow(i)\n",
    "except IOError:\n",
    "    print(\"I/O error\")"
   ]
  },
  {
   "cell_type": "markdown",
   "id": "66cbbd22",
   "metadata": {},
   "source": [
    "# SoundCloud Project"
   ]
  },
  {
   "cell_type": "markdown",
   "id": "8dfea7cc",
   "metadata": {},
   "source": [
    "# Part 1: Data Collecting (HTML parse is a second method to collect data)"
   ]
  },
  {
   "cell_type": "markdown",
   "id": "619cd320",
   "metadata": {},
   "source": [
    "## II. Data Collecting by HTML\n",
    "\n",
    "#### General: Collecting user, playlist and track data on Soundcloud\n",
    "#### Notes: The assignment of tasks in each stage is different, so there will be some members who do not participate in this stage "
   ]
  },
  {
   "cell_type": "markdown",
   "id": "95c2642a",
   "metadata": {},
   "source": [
    "### DYNAMIC WEB SCRAPING WITH SELENIUM\n",
    "\n",
    "Because our group has scrapped the web by using API, in this section we will not go to so deeply into take the full information of users, tracks and playlists, using API has done so good. Therefore, by using selenium, we just take the links of users, tracks and playlists. From these links, we can take the information that we need from them eventually."
   ]
  },
  {
   "cell_type": "markdown",
   "id": "b177178a",
   "metadata": {},
   "source": [
    "### Import libraries"
   ]
  },
  {
   "cell_type": "code",
   "execution_count": null,
   "id": "19a34f2c",
   "metadata": {},
   "outputs": [],
   "source": [
    "from bs4 import BeautifulSoup\n",
    "import time\n",
    "from selenium import webdriver"
   ]
  },
  {
   "cell_type": "code",
   "execution_count": null,
   "id": "a6b92ed1",
   "metadata": {},
   "outputs": [],
   "source": [
    "sets = []\n",
    "playlists = []\n",
    "users = []\n",
    "tracks= []\n",
    "tags = []"
   ]
  },
  {
   "cell_type": "markdown",
   "id": "32dd75d4",
   "metadata": {},
   "source": [
    "### Define the driver_path and url\n",
    "\n",
    "Make sure that you have download the chromedriver with suitable version to run this code"
   ]
  },
  {
   "cell_type": "code",
   "execution_count": null,
   "id": "0e511a09",
   "metadata": {},
   "outputs": [],
   "source": [
    "DRIVER_PATH = './chromedriver'\n",
    "URL = \"https://soundcloud.com/discover\""
   ]
  },
  {
   "cell_type": "code",
   "execution_count": null,
   "id": "bd4f6365",
   "metadata": {},
   "outputs": [],
   "source": [
    "driver = webdriver.Chrome(DRIVER_PATH)\n",
    "driver.get(URL)\n",
    "driver.implicitly_wait(30)\n",
    "for i in range(5):\n",
    "    driver.execute_script(\"window.scrollTo(0, document.body.scrollHeight);\")\n",
    "    time.sleep(1)"
   ]
  },
  {
   "cell_type": "code",
   "execution_count": null,
   "id": "fae16ea2",
   "metadata": {},
   "outputs": [],
   "source": [
    "data= driver.page_source\n",
    "soup = BeautifulSoup(data, \"html.parser\")"
   ]
  },
  {
   "cell_type": "markdown",
   "id": "3bed6374",
   "metadata": {},
   "source": [
    "We can see that most of the sets are contained in class \"tileGallery__sliderPanelSlide\", so I will get it first of all"
   ]
  },
  {
   "cell_type": "code",
   "execution_count": null,
   "id": "11ea83d8",
   "metadata": {
    "scrolled": true
   },
   "outputs": [],
   "source": [
    "slides = soup.find_all(class_=\"tileGallery__sliderPanelSlide\")"
   ]
  },
  {
   "cell_type": "markdown",
   "id": "21f0693d",
   "metadata": {},
   "source": [
    "### Get sets\n",
    "\n",
    "I see that many playlists are contained in the sets, so I will get them"
   ]
  },
  {
   "cell_type": "code",
   "execution_count": null,
   "id": "5c377ba8",
   "metadata": {},
   "outputs": [],
   "source": [
    "for i in slides:\n",
    "    values = i.find_all('a',href = True)\n",
    "    values = [k['href'] for k in values if k]\n",
    "    if values:\n",
    "        for val in values:\n",
    "            if 'discover' in val:\n",
    "                playlists.append(\"https://soundcloud.com\"+val)\n",
    "            elif 'sets' in val:\n",
    "                sets.append(val.partition('sets')[0]+'sets')\n",
    "            elif val!='':\n",
    "                users.append(\"https://soundcloud.com\"+val)\n",
    "sets = list(set(sets))"
   ]
  },
  {
   "cell_type": "markdown",
   "id": "5937678d",
   "metadata": {},
   "source": [
    "### Get playlists and tags from sets\n",
    "\n",
    "When I get the playlists from the sets, I get the tags at the same time. Tags are important because they contain a lot of playlists. Just taking from sets is not enough 1000 playlists."
   ]
  },
  {
   "cell_type": "code",
   "execution_count": null,
   "id": "47286008",
   "metadata": {},
   "outputs": [],
   "source": [
    "links = [\"https://soundcloud.com\"+s for s in sets]"
   ]
  },
  {
   "cell_type": "code",
   "execution_count": null,
   "id": "8a749ea0",
   "metadata": {
    "scrolled": false
   },
   "outputs": [],
   "source": [
    "for link in links:\n",
    "    if len(playlists) > 1000:\n",
    "        break\n",
    "    driver = webdriver.Chrome(DRIVER_PATH)\n",
    "    driver.get(link)\n",
    "    driver.implicitly_wait(30);\n",
    "    for i in range(10):\n",
    "        driver.execute_script(\"window.scrollTo(0, document.body.scrollHeight);\")\n",
    "        time.sleep(1)\n",
    "    data= driver.page_source\n",
    "    soup = BeautifulSoup(data, \"html.parser\")\n",
    "    items = soup.find_all(class_=\"soundList__item\")\n",
    "    for d in items:\n",
    "        routes = d.find_all('a',href=True)\n",
    "        if routes:\n",
    "            values = [k['href'] for k in routes if k]\n",
    "            for val in values:\n",
    "                if 'sets' in val:\n",
    "                    playlists.append(\"https://soundcloud.com\"+val)\n",
    "                    print(val)\n",
    "                elif 'tags' in val:\n",
    "                    tags.append(\"https://soundcloud.com\"+val+'/playlists')\n",
    "    playlists = list(set(playlists))\n",
    "    tags = list(set(tags))\n",
    "    driver.close()"
   ]
  },
  {
   "cell_type": "markdown",
   "id": "e64de042",
   "metadata": {},
   "source": [
    "### Get playlists from tags\n",
    "\n",
    "Because I have collected not enough playlists, I decide to collect from tags now"
   ]
  },
  {
   "cell_type": "code",
   "execution_count": null,
   "id": "746901b0",
   "metadata": {},
   "outputs": [],
   "source": [
    "links = tags[:]"
   ]
  },
  {
   "cell_type": "markdown",
   "id": "3dd62575",
   "metadata": {},
   "source": [
    "### The agorithm is just as getting playlists from sets."
   ]
  },
  {
   "cell_type": "code",
   "execution_count": null,
   "id": "9dd86ee2",
   "metadata": {},
   "outputs": [],
   "source": [
    "for link in links:\n",
    "    if len(playlists) > 1000:\n",
    "        break\n",
    "    driver = webdriver.Chrome(DRIVER_PATH)\n",
    "    driver.get(link)\n",
    "    driver.implicitly_wait(30);\n",
    "    for i in range(20):\n",
    "        driver.execute_script(\"window.scrollTo(0, document.body.scrollHeight);\")\n",
    "        time.sleep(1)\n",
    "    data= driver.page_source\n",
    "    soup = BeautifulSoup(data, \"html.parser\")\n",
    "    items = soup.find_all(class_=\"soundList__item\")\n",
    "    for d in items:\n",
    "        routes = d.find_all('a',href=True)\n",
    "        if routes:\n",
    "            values = [k['href'] for k in routes if k]\n",
    "            for val in values:\n",
    "                if 'sets' in val:\n",
    "                    playlists.append(\"https://soundcloud.com\"+val)\n",
    "    \n",
    "    driver.close()\n",
    "    playlists=list(set(playlists))"
   ]
  },
  {
   "cell_type": "markdown",
   "id": "7eebbc6e",
   "metadata": {},
   "source": [
    "### Get tracks and users from these playlists\n",
    "\n",
    "If we see the links of the tracks, we can see that they contains the information of their owners, so we will get the users from them."
   ]
  },
  {
   "cell_type": "code",
   "execution_count": null,
   "id": "a4b51145",
   "metadata": {},
   "outputs": [],
   "source": [
    "links = playlists[:]"
   ]
  },
  {
   "cell_type": "code",
   "execution_count": null,
   "id": "96e6e610",
   "metadata": {},
   "outputs": [],
   "source": [
    "for link in links:\n",
    "    if len(tracks) > 1000:\n",
    "        break     \n",
    "    driver = webdriver.Chrome(DRIVER_PATH)\n",
    "    driver.get(link)\n",
    "    driver.implicitly_wait(30);\n",
    "    for i in range(10):\n",
    "        driver.execute_script(\"window.scrollTo(0, document.body.scrollHeight);\")\n",
    "        time.sleep(1)\n",
    "    data= driver.page_source\n",
    "    soup = BeautifulSoup(data, \"html.parser\")\n",
    "    data = soup.find_all(class_ = 'trackList__item sc-border-light-bottom sc-px-2x')\n",
    "    for d in data:\n",
    "        val = d.find(class_='trackItem__trackTitle sc-link-dark sc-link-primary sc-font-light',href=True)\n",
    "        if val:\n",
    "            h_ref = val['href']\n",
    "            name = val.get_text()\n",
    "            tracks.append('https://soundcloud.com'+h_ref)\n",
    "            users.append('https://soundcloud.com/'+h_ref.split(\"/\", 2)[1])\n",
    "            print(name)\n",
    "    driver.close()\n",
    "    tracks = list(set(tracks))\n",
    "    users = list(set(users))"
   ]
  },
  {
   "cell_type": "markdown",
   "id": "05865419",
   "metadata": {},
   "source": [
    "### Get users from playlists\n",
    "\n",
    "Because the number of users is not enough 1000, so I decided to get them from playlists too. If we see the links of the playlists, we can see that they contains the information of their owners, so we will get the users from them."
   ]
  },
  {
   "cell_type": "code",
   "execution_count": null,
   "id": "8c2fce06",
   "metadata": {},
   "outputs": [],
   "source": [
    "for playlist in playlists:\n",
    "    if len(users) > 1000:\n",
    "        break\n",
    "    users.append('https://soundcloud.com/'+playlist.split('/')[3])\n",
    "    users = list(set(users))"
   ]
  },
  {
   "cell_type": "markdown",
   "id": "c148168d",
   "metadata": {},
   "source": [
    "### Save users.csv, tracks.csv and playlist.csv"
   ]
  },
  {
   "cell_type": "markdown",
   "id": "f41ee925",
   "metadata": {},
   "source": [
    "#### 1. Save tracks"
   ]
  },
  {
   "cell_type": "code",
   "execution_count": null,
   "id": "6efb8bf2",
   "metadata": {},
   "outputs": [],
   "source": [
    "head = 'Link\\n'\n",
    "with open('tracks.csv', mode = 'w')as f:\n",
    "    f.write(head)\n",
    "    for track in tracks:\n",
    "        f.write(track)\n",
    "        f.write('\\n')\n",
    "f.close()"
   ]
  },
  {
   "cell_type": "markdown",
   "id": "65bb8b4a",
   "metadata": {},
   "source": [
    "#### 2. Save users"
   ]
  },
  {
   "cell_type": "code",
   "execution_count": null,
   "id": "50ff1ff0",
   "metadata": {},
   "outputs": [],
   "source": [
    "head = 'Link\\n'\n",
    "with open('users.csv', mode = 'w')as f:\n",
    "    f.write(head)\n",
    "    for user in users:\n",
    "        f.write(user)\n",
    "        f.write('\\n')\n",
    "f.close()"
   ]
  },
  {
   "cell_type": "markdown",
   "id": "76a96a96",
   "metadata": {},
   "source": [
    "#### 3. Save playlists"
   ]
  },
  {
   "cell_type": "code",
   "execution_count": null,
   "id": "872ef19b",
   "metadata": {},
   "outputs": [],
   "source": [
    "head = 'Link\\n'\n",
    "with open('playlists.csv', mode = 'w')as f:\n",
    "    f.write(head)\n",
    "    for playlist in playlists:\n",
    "        f.write(playlist)\n",
    "        f.write('\\n')\n",
    "f.close()"
   ]
  },
  {
   "cell_type": "markdown",
   "id": "7bc9a207",
   "metadata": {},
   "source": [
    "From these files of links, we can scrap more information of them when we need."
   ]
  },
  {
   "cell_type": "markdown",
   "id": "a7c29cf7",
   "metadata": {},
   "source": [
    "# SoundCloud Project"
   ]
  },
  {
   "cell_type": "markdown",
   "id": "b26c745b",
   "metadata": {},
   "source": [
    "# Part 2: Data Analysis"
   ]
  },
  {
   "cell_type": "markdown",
   "id": "830ba89c",
   "metadata": {},
   "source": [
    "#### General: Analysis data in user, playlist and track data on Soundcloud\n",
    "#### Notes: The assignment of tasks in each stage is different, so there will be some members who do not participate in this stage "
   ]
  },
  {
   "cell_type": "markdown",
   "id": "46617c10",
   "metadata": {},
   "source": [
    "## Import libraries"
   ]
  },
  {
   "cell_type": "code",
   "execution_count": null,
   "id": "6d253818",
   "metadata": {},
   "outputs": [],
   "source": [
    "import pandas as pd\n",
    "import numpy as np\n",
    "import matplotlib.pyplot as plt"
   ]
  },
  {
   "cell_type": "markdown",
   "id": "d72fa22c",
   "metadata": {},
   "source": [
    "## I. Track"
   ]
  },
  {
   "cell_type": "markdown",
   "id": "31a5f9b7",
   "metadata": {},
   "source": [
    "### 1. Data Exporatory"
   ]
  },
  {
   "cell_type": "markdown",
   "id": "bc52a9eb",
   "metadata": {},
   "source": [
    "#### Load data"
   ]
  },
  {
   "cell_type": "code",
   "execution_count": null,
   "id": "7b6778e8",
   "metadata": {
    "scrolled": true
   },
   "outputs": [],
   "source": [
    "tracks = pd.read_csv('tracks.csv', index_col = 'id')\n",
    "tracks.head(5)"
   ]
  },
  {
   "cell_type": "markdown",
   "id": "c9f6817a",
   "metadata": {},
   "source": [
    "#### How many rows and columns in dataset?"
   ]
  },
  {
   "cell_type": "code",
   "execution_count": null,
   "id": "9bfa8728",
   "metadata": {},
   "outputs": [],
   "source": [
    "rows_num, cols_num = tracks.shape\n",
    "print(rows_num, cols_num)"
   ]
  },
  {
   "cell_type": "markdown",
   "id": "ed36ab5c",
   "metadata": {},
   "source": [
    "#### Does data have duplicated sample?"
   ]
  },
  {
   "cell_type": "code",
   "execution_count": null,
   "id": "188f9159",
   "metadata": {
    "scrolled": true
   },
   "outputs": [],
   "source": [
    "sum(tracks.duplicated()) == 0"
   ]
  },
  {
   "cell_type": "markdown",
   "id": "22f2060b",
   "metadata": {},
   "source": [
    "This data have duplicated sample"
   ]
  },
  {
   "cell_type": "markdown",
   "id": "39edf9e0",
   "metadata": {},
   "source": [
    "#### What data type that current dataset have? Is there a column with a data type that is not suitable for further processing?"
   ]
  },
  {
   "cell_type": "code",
   "execution_count": null,
   "id": "42465740",
   "metadata": {},
   "outputs": [],
   "source": [
    "tracks.dtypes"
   ]
  },
  {
   "cell_type": "markdown",
   "id": "281671d0",
   "metadata": {},
   "source": [
    "#### How many rows of each columns that have value?"
   ]
  },
  {
   "cell_type": "code",
   "execution_count": null,
   "id": "3f63cf81",
   "metadata": {
    "scrolled": true
   },
   "outputs": [],
   "source": [
    "tracks.count()"
   ]
  },
  {
   "cell_type": "markdown",
   "id": "2ebc37b5",
   "metadata": {},
   "source": [
    "The strange thing is that most of columns have only 3940 rows is diffent from none, while some columns like policy have up to 34685 rows. This means that it exists some rows that most of its attributes are none."
   ]
  },
  {
   "cell_type": "markdown",
   "id": "4850e766",
   "metadata": {},
   "source": [
    "#### How many distinct values that current dataset have?"
   ]
  },
  {
   "cell_type": "code",
   "execution_count": null,
   "id": "7e19778f",
   "metadata": {
    "scrolled": true
   },
   "outputs": [],
   "source": [
    "distinct_values_num = tracks.nunique(axis=0)\n",
    "distinct_values_num "
   ]
  },
  {
   "cell_type": "markdown",
   "id": "b9708625",
   "metadata": {},
   "source": [
    "The strange thing is that some columns have only 1 distinct value, which has no mean for data analysis"
   ]
  },
  {
   "cell_type": "markdown",
   "id": "d2c3f597",
   "metadata": {},
   "source": [
    "### Data Preproccessing"
   ]
  },
  {
   "cell_type": "markdown",
   "id": "5bbc967e",
   "metadata": {},
   "source": [
    "#### Change the dtype of \"created_at\", \"display_date\", \".release_date\", \"last_modified\" to datetime"
   ]
  },
  {
   "cell_type": "code",
   "execution_count": null,
   "id": "6ed95c9c",
   "metadata": {},
   "outputs": [],
   "source": [
    "tracks.created_at = pd.to_datetime(tracks.created_at)\n",
    "tracks.display_date= pd.to_datetime(tracks.display_date)\n",
    "tracks.release_date= pd.to_datetime(tracks.release_date)\n",
    "tracks.last_modified= pd.to_datetime(tracks.last_modified) "
   ]
  },
  {
   "cell_type": "markdown",
   "id": "b330166d",
   "metadata": {},
   "source": [
    "#### Delete columns that have no or only 1 distinct values"
   ]
  },
  {
   "cell_type": "code",
   "execution_count": null,
   "id": "8eb2832a",
   "metadata": {},
   "outputs": [],
   "source": [
    "tracks = tracks.loc[:,distinct_values_num>1]"
   ]
  },
  {
   "cell_type": "markdown",
   "id": "49c59de0",
   "metadata": {},
   "source": [
    "#### Drop columns that have abnormal rows number"
   ]
  },
  {
   "cell_type": "code",
   "execution_count": null,
   "id": "6e59cb13",
   "metadata": {},
   "outputs": [],
   "source": [
    "row_have_values_count = tracks.count()\n",
    "tracks = tracks.loc[:,row_have_values_count<row_have_values_count.mean()]"
   ]
  },
  {
   "cell_type": "markdown",
   "id": "c2e8c9a5",
   "metadata": {},
   "source": [
    "#### Drop rows whose values are none totally"
   ]
  },
  {
   "cell_type": "code",
   "execution_count": null,
   "id": "7a0f78b4",
   "metadata": {},
   "outputs": [],
   "source": [
    "tracks.dropna(how='all',inplace = True)"
   ]
  },
  {
   "cell_type": "markdown",
   "id": "4c89fca8",
   "metadata": {},
   "source": [
    "#### Drop duplicated samples"
   ]
  },
  {
   "cell_type": "code",
   "execution_count": null,
   "id": "612eac59",
   "metadata": {},
   "outputs": [],
   "source": [
    "tracks.drop_duplicates(inplace = True)"
   ]
  },
  {
   "cell_type": "markdown",
   "id": "748be055",
   "metadata": {},
   "source": [
    "### Data Exploration (cont.)"
   ]
  },
  {
   "cell_type": "code",
   "execution_count": null,
   "id": "3de7f49a",
   "metadata": {},
   "outputs": [],
   "source": [
    "rows_num, cols_num = tracks.shape\n",
    "print(rows_num, cols_num)"
   ]
  },
  {
   "cell_type": "markdown",
   "id": "6ce39611",
   "metadata": {},
   "source": [
    "#### How does the numeric data distribute?"
   ]
  },
  {
   "cell_type": "code",
   "execution_count": null,
   "id": "3ea9b6b5",
   "metadata": {},
   "outputs": [],
   "source": [
    "# YOUR CODE HERE\n",
    "data = tracks.describe()\n",
    "missing_percentage = ((1-data.loc['count']/rows_num) * 100).round(1)\n",
    "nume_col_info_df = pd.DataFrame({'missing_percentage':missing_percentage,\n",
    "                                 'min': data.loc['min'],\n",
    "                              'lower_quartile': data.loc['25%'],\n",
    "                              'median': data.loc['50%'],\n",
    "                                 'upper_quartile': data.loc['75%'],\n",
    "                                'max': data.loc['max']})\n",
    "nume_col_info_df = nume_col_info_df.T\n",
    "nume_col_info_df"
   ]
  },
  {
   "cell_type": "markdown",
   "id": "659e6f45",
   "metadata": {},
   "source": [
    "#### How does the categorial data distribute?"
   ]
  },
  {
   "cell_type": "code",
   "execution_count": null,
   "id": "cdf76e09",
   "metadata": {},
   "outputs": [],
   "source": [
    "data = tracks.select_dtypes(include=['object'])\n",
    "\n",
    "diff_vals=data.stack().dropna(how='any').reset_index(level= 0,drop=True).groupby(level=0).unique().reindex(index=data.columns).rename('diff_vals')\n",
    "num_diff_vals = diff_vals.str.len().rename('num_diff_vals')\n",
    "missing_ratio = (1-data.count().rename('missing_ratio')/rows_num)*100\n",
    "\n",
    "cate_col_profiles_df = pd.concat([missing_ratio,num_diff_vals,diff_vals], axis=1)\n",
    "cate_col_profiles_df"
   ]
  },
  {
   "cell_type": "markdown",
   "id": "15871b6f",
   "metadata": {},
   "source": [
    "#### Create the new columns, which is the number of medias that post that track"
   ]
  },
  {
   "cell_type": "code",
   "execution_count": null,
   "id": "f9c8edbd",
   "metadata": {},
   "outputs": [],
   "source": [
    "import ast\n",
    "tracks['medias_count'] = tracks.media.apply(lambda x: len(ast.literal_eval(x)['transcodings']))"
   ]
  },
  {
   "cell_type": "code",
   "execution_count": null,
   "id": "d9399952",
   "metadata": {},
   "outputs": [],
   "source": [
    "tracks.waveform_url"
   ]
  },
  {
   "cell_type": "markdown",
   "id": "67a5a6b3",
   "metadata": {},
   "source": [
    "# Make question"
   ]
  },
  {
   "cell_type": "markdown",
   "id": "dfd8da12",
   "metadata": {},
   "source": [
    "## 1. What are the most trending tracks from 2020 to now in soundcloud?\n",
    "\n",
    "A track is consider trending if many users like, download, commend, report and play back it."
   ]
  },
  {
   "cell_type": "code",
   "execution_count": null,
   "id": "1e829f7c",
   "metadata": {},
   "outputs": [],
   "source": [
    "cols = ['comment_count','download_count','likes_count','playback_count','reposts_count','medias_count']\n",
    "data = tracks.loc[tracks.created_at.dt.year >= 2020,cols]\n",
    "data"
   ]
  },
  {
   "cell_type": "markdown",
   "id": "d942bc66",
   "metadata": {},
   "source": [
    "## Using K-Means Agorithm\n",
    "\n",
    "In this project, I decided to use K-Mean agorithm because it is quite easy to understand, simple to implement and it guarantees the convergence. This means that we will always find the solution for the problems.\n",
    "\n",
    "#### Group assignment\n",
    "\n",
    "With given initial value of centroids, we compute the distance between each centroid with each vector and assign the group according to the smallest distance. The function then returns a vector of groupings."
   ]
  },
  {
   "cell_type": "code",
   "execution_count": null,
   "id": "3c235d1d",
   "metadata": {},
   "outputs": [],
   "source": [
    "def group_assignment(data,centroids):\n",
    "    grouping_vec_c = np.zeros(len(data))\n",
    "    for i in range(len(data)):\n",
    "        dist = np.zeros(len(centroids))\n",
    "        for j in range(len(centroids)):\n",
    "            dist[j] = np.linalg.norm(data.iloc[i]-centroids.iloc[j])\n",
    "        grouping_vec_c[i] = dist.argmin()\n",
    "    return grouping_vec_c"
   ]
  },
  {
   "cell_type": "code",
   "execution_count": null,
   "id": "e0170035",
   "metadata": {},
   "outputs": [],
   "source": [
    "#TEST\n",
    "centroids = data.sample(n = 3)\n",
    "grouping = group_assignment(data,centroids)\n",
    "grouping[:5]"
   ]
  },
  {
   "cell_type": "markdown",
   "id": "e34e3e01",
   "metadata": {},
   "source": [
    "#### Update centroid\n",
    "\n",
    "We define a function to update the centroid after the group assignment, returning a new list of group centroids. The new controids are defined as the mean of their grouping points."
   ]
  },
  {
   "cell_type": "code",
   "execution_count": null,
   "id": "e6335610",
   "metadata": {},
   "outputs": [],
   "source": [
    "def update_centroid(data, grouping, centroids):\n",
    "    new_centroids = pd.DataFrame(columns=centroids.columns)\n",
    "    for i in range(len(centroids)):\n",
    "        new_centroids = new_centroids.append(data[grouping == i].mean(axis = 0), ignore_index = True)\n",
    "    return new_centroids"
   ]
  },
  {
   "cell_type": "code",
   "execution_count": null,
   "id": "b30209fb",
   "metadata": {
    "scrolled": true
   },
   "outputs": [],
   "source": [
    "new_centroids = update_centroid(data, grouping, centroids)"
   ]
  },
  {
   "cell_type": "markdown",
   "id": "3f0ea515",
   "metadata": {},
   "source": [
    "## K-Means Agorithm\n",
    "\n",
    "The agorithm is as follow:\n",
    "    <ul>input: \n",
    "        <li>data: dataset that is considered</li>\n",
    "        <li>centroids: the k samples that are chosen randomly from dataset</li>\n",
    "    </ul>\n",
    "    <ul> output:\n",
    "    <li>new_centroids: is the final centroids of clusters</li>\n",
    "    <li>grouping: is the group of each itemset in dataset belongs to</li>\n",
    "    </ul>\n",
    "    \n",
    "    ```python\n",
    "        while True:\n",
    "            Assign group for each itemset to the centroid that is near it most.\n",
    "            Find the new centroids of new clusters. The new centroids are  the mean of all itemsets in the new cluster\n",
    "            Terminate the algorithm when the distance between centroids and new_centroids become so small\n",
    "      ```"
   ]
  },
  {
   "cell_type": "code",
   "execution_count": null,
   "id": "8542e0e5",
   "metadata": {},
   "outputs": [],
   "source": [
    "def KMeans_agorithm(data, centroids):\n",
    "    while True:\n",
    "        grouping = group_assignment(data,centroids)\n",
    "        new_centroids = update_centroid(data, grouping, centroids)\n",
    "        if np.linalg.norm(np.array(new_centroids)-np.array(centroids)) <1e-6:\n",
    "            break\n",
    "        else:\n",
    "            centroids = new_centroids\n",
    "    return new_centroids, grouping"
   ]
  },
  {
   "cell_type": "markdown",
   "id": "934dfeaf",
   "metadata": {},
   "source": [
    "## Analysis\n",
    "### Test the K-Means Agorithm in the dataset to find the most trending tracks from 2020 to now"
   ]
  },
  {
   "cell_type": "code",
   "execution_count": null,
   "id": "da28f7f2",
   "metadata": {},
   "outputs": [],
   "source": [
    "k = 5\n",
    "centroids = data.sample(n = k)\n",
    "new_centroids, grouping = KMeans_agorithm(data, centroids)"
   ]
  },
  {
   "cell_type": "markdown",
   "id": "4fe4ea2f",
   "metadata": {},
   "source": [
    "In this project, we find the trending tracks by searching the cluster whose centroid has the highest mean. After finding it, the links of these songs as follow:"
   ]
  },
  {
   "cell_type": "code",
   "execution_count": null,
   "id": "1a7fe152",
   "metadata": {},
   "outputs": [],
   "source": [
    "trending_tracks_id = data[grouping == new_centroids.mean(axis=1).argmax()].index\n",
    "tracks.loc[trending_tracks_id].permalink_url"
   ]
  },
  {
   "cell_type": "markdown",
   "id": "849c91d7",
   "metadata": {},
   "source": [
    "And below is the detail information of the trending tracks."
   ]
  },
  {
   "cell_type": "code",
   "execution_count": null,
   "id": "f6068050",
   "metadata": {
    "scrolled": true
   },
   "outputs": [],
   "source": [
    "a = tracks.loc[trending_tracks_id].publisher_metadata.values\n",
    "info = []\n",
    "for i in range(len(a)):\n",
    "    info.append(eval(a[i]))\n",
    "df = pd.DataFrame(info)\n",
    "df = df.set_index('id')\n",
    "df"
   ]
  },
  {
   "cell_type": "markdown",
   "id": "a3dea432",
   "metadata": {},
   "source": [
    "## Conclusion\n",
    "\n",
    "From above result, the Soudcloud can recommend the top trending tracks for its' homepage, or make prizes for the best tracks from 2020 to now."
   ]
  },
  {
   "cell_type": "markdown",
   "id": "cf78aae8",
   "metadata": {},
   "source": [
    "## 2. How to predict the likes' number by using attributes 'comment_count', 'playback_count', 'reposts_count', 'medias_count', 'download_count'."
   ]
  },
  {
   "cell_type": "markdown",
   "id": "bf8968cb",
   "metadata": {},
   "source": [
    "# Linear Regression\n",
    "\n",
    "In this section, we will use linear regression, by using 5 attribute 'comment_count', 'playback_count', 'reposts_count', 'medias_count', 'download_count' to predict the like's number.\n",
    "\n",
    "First of all, we set up some nessarary function."
   ]
  },
  {
   "cell_type": "code",
   "execution_count": null,
   "id": "7b932115",
   "metadata": {},
   "outputs": [],
   "source": [
    "cols = ['comment_count','likes_count','playback_count','reposts_count','medias_count','download_count']\n",
    "data = tracks[cols].dropna(how ='any')\n",
    "X = data[['comment_count','playback_count','reposts_count','medias_count','download_count']]\n",
    "Y = data.likes_count"
   ]
  },
  {
   "cell_type": "code",
   "execution_count": null,
   "id": "d546c4c3",
   "metadata": {},
   "outputs": [],
   "source": [
    "# NECESSARY FUNCTION\n",
    "def fitting(A, b):\n",
    "    return np.linalg.pinv(A) @ b\n",
    "def RMSE(y_true,y_pred):\n",
    "    return (sum((y_true-y_pred)**2)/len(y_pred))**0.5"
   ]
  },
  {
   "cell_type": "code",
   "execution_count": null,
   "id": "8ef7aef1",
   "metadata": {},
   "outputs": [],
   "source": [
    "# Lấy các đặc trưng X và giá trị mục tiêu y cho các tập huấn luyện (train) và kiểm tra (test)\n",
    "trains_num = int(len(X)*2/3)\n",
    "tests_num = len(X) - trains_num\n",
    "X_train = X.head(trains_num).iloc[:,:]\n",
    "y_train = Y[:trains_num]\n",
    "X_test = X.tail(tests_num).iloc[:,:]\n",
    "y_test = Y[trains_num:]"
   ]
  },
  {
   "cell_type": "code",
   "execution_count": null,
   "id": "b1faa1b2",
   "metadata": {},
   "outputs": [],
   "source": [
    "#CODE\n",
    "X_tmp = np.column_stack((np.ones(len(y_train)),X_train))\n",
    "w = fitting(X_tmp,y_train)\n",
    "XTest = np.column_stack((np.ones(len(y_test)),X_test))\n",
    "y_pred = XTest @w\n",
    "np.round(w,1)"
   ]
  },
  {
   "cell_type": "markdown",
   "id": "3dd5d5b3",
   "metadata": {},
   "source": [
    "#### RMSE Value"
   ]
  },
  {
   "cell_type": "code",
   "execution_count": null,
   "id": "5562679a",
   "metadata": {},
   "outputs": [],
   "source": [
    "# Gọi hàm RMSE (tự cài đặt hoặc từ thư viện) trên tập kiểm tra\n",
    "RMSE(y_pred,y_test)"
   ]
  },
  {
   "cell_type": "code",
   "execution_count": null,
   "id": "dd1b25e6",
   "metadata": {
    "scrolled": false
   },
   "outputs": [],
   "source": [
    "#Biểu diễn sự chênh lệch giữa tuổi thọ trung bình dự đoán và thực tế\n",
    "fig, ax = plt.subplots()\n",
    "ax.scatter(y_pred, y_test, edgecolors=(0, 0, 0))\n",
    "ax.plot([y_test.min(), y_test.max()], [y_test.min(), y_test.max()], \"k--\", lw=4)\n",
    "ax.set_xlabel(\"Predicted\")\n",
    "ax.set_ylabel(\"Measured\")\n",
    "plt.show()"
   ]
  },
  {
   "cell_type": "markdown",
   "id": "160ee70f",
   "metadata": {},
   "source": [
    "## K-folds Validation\n",
    "\n",
    "In this section, we will use K-folds validation to find the model with the best attribute to predict the number of likes.\n",
    "\n",
    "The agorithm is as follow:\n",
    "    <ul>input: \n",
    "        <li>data: dataset that is considered</li>\n",
    "        <li>centroids: the k samples that are chosen randomly from dataset</li>\n",
    "    </ul>\n",
    "    <ul> output:\n",
    "    <li>new_centroids: is the final centroids of clusters</li>\n",
    "    <li>grouping: is the group of each itemset in dataset belongs to</li>\n",
    "    </ul>\n",
    "    \n",
    "    ```python\n",
    "        while True:\n",
    "            Assign group for each itemset to the centroid that is near it most.\n",
    "            Find the new centroids of new clusters. The new centroids are  the mean of all itemsets in the new cluster\n",
    "            Terminate the algorithm when the distance between centroids and new_centroids become so small\n",
    "      ```\n"
   ]
  },
  {
   "cell_type": "code",
   "execution_count": null,
   "id": "18714069",
   "metadata": {},
   "outputs": [],
   "source": [
    "# I=np.array_split(np.random.permutation(num_rows),k_fold)\n",
    "# I[6:]"
   ]
  },
  {
   "cell_type": "code",
   "execution_count": null,
   "id": "d990afe0",
   "metadata": {
    "scrolled": true
   },
   "outputs": [],
   "source": [
    "#CODE\n",
    "def k_folds_validation(X,y, k_fold):\n",
    "    num_rows,num_cols= X.shape\n",
    "    k_fold = 5\n",
    "    I=np.array_split(np.random.permutation(num_rows),k_fold)\n",
    "    rmse = np.zeros((num_cols,k_fold))\n",
    "    for i in range(num_cols):\n",
    "        X_train_feature = X.to_numpy()[:,i]\n",
    "        Y_train_feature = y.to_numpy()[:]\n",
    "        for k in range(4):\n",
    "            Itest = I[k]\n",
    "            Itrain = I.pop(k)\n",
    "            X_val = np.column_stack((np.ones(len(Itest)),X_train_feature[Itest]))\n",
    "            y_val = Y_train_feature[Itest]\n",
    "            X_Ktrain_feature = np.column_stack((np.ones(len(Itrain)),X_train_feature[Itrain]))\n",
    "            Y_Ktrain_feature = Y_train_feature[Itrain]\n",
    "            w = fitting(X_Ktrain_feature,Y_Ktrain_feature)\n",
    "            y_val_pred = X_val @ w\n",
    "            rmse[i,k] = RMSE(y_val_pred,y_val)\n",
    "            break\n",
    "    return np.average(rmse,axis=1) \n",
    "rmse = k_folds_validation(X, Y, 5)\n",
    "# In ra các kết quả cross-validation\n",
    "df3 = pd.DataFrame({'Model with 1 attribute' : X.columns, 'RMSE': rmse })\n",
    "df3"
   ]
  },
  {
   "cell_type": "markdown",
   "id": "ab409337",
   "metadata": {},
   "source": [
    "### Conclusion\n",
    "\n",
    "From this result, we can see that the model with playback_count is the best model to predict like_count, when its RMSE is the smallest value. There fore, Soundcloud can suggest that the best way for making the tracks have the highest likes is to increase playback_count."
   ]
  },
  {
   "cell_type": "markdown",
   "id": "33fc3e3f",
   "metadata": {},
   "source": [
    "## User"
   ]
  },
  {
   "cell_type": "markdown",
   "id": "4e7a4ad7",
   "metadata": {},
   "source": [
    "### Data Exporatory"
   ]
  },
  {
   "cell_type": "markdown",
   "id": "cd6b4bd2",
   "metadata": {},
   "source": [
    "#### Load data"
   ]
  },
  {
   "cell_type": "code",
   "execution_count": null,
   "id": "08e249e7",
   "metadata": {},
   "outputs": [],
   "source": [
    "users = pd.read_csv('user.csv', index_col = 'id')\n",
    "users.head(5)"
   ]
  },
  {
   "cell_type": "markdown",
   "id": "e5adacdd",
   "metadata": {},
   "source": [
    "#### How many rows and columns in dataset?"
   ]
  },
  {
   "cell_type": "code",
   "execution_count": null,
   "id": "f0b6880e",
   "metadata": {},
   "outputs": [],
   "source": [
    "rows_num, cols_num = users.shape\n",
    "print(rows_num, cols_num)"
   ]
  },
  {
   "cell_type": "markdown",
   "id": "ee74258b",
   "metadata": {},
   "source": [
    "#### Does data have duplicated sample?"
   ]
  },
  {
   "cell_type": "code",
   "execution_count": null,
   "id": "6bf043ef",
   "metadata": {},
   "outputs": [],
   "source": [
    "sum(users.duplicated()) == 0"
   ]
  },
  {
   "cell_type": "markdown",
   "id": "8e261c30",
   "metadata": {},
   "source": [
    "This data doesn't have duplicated sample"
   ]
  },
  {
   "cell_type": "markdown",
   "id": "1b617b39",
   "metadata": {},
   "source": [
    "#### What data type that current dataset have? Is there a column with a data type that is not suitable for further processing?"
   ]
  },
  {
   "cell_type": "code",
   "execution_count": null,
   "id": "f40c381a",
   "metadata": {},
   "outputs": [],
   "source": [
    "users.dtypes"
   ]
  },
  {
   "cell_type": "markdown",
   "id": "1e05fe0a",
   "metadata": {},
   "source": [
    "#### How many rows of each columns that have value?"
   ]
  },
  {
   "cell_type": "code",
   "execution_count": null,
   "id": "29e5b8b0",
   "metadata": {},
   "outputs": [],
   "source": [
    "users.count()"
   ]
  },
  {
   "cell_type": "markdown",
   "id": "256aacf2",
   "metadata": {},
   "source": [
    "#### How many rows of each columns that have value?"
   ]
  },
  {
   "cell_type": "code",
   "execution_count": null,
   "id": "51ea014d",
   "metadata": {
    "scrolled": true
   },
   "outputs": [],
   "source": [
    "users.count()"
   ]
  },
  {
   "cell_type": "markdown",
   "id": "4799327f",
   "metadata": {},
   "source": [
    "There is nothing strange."
   ]
  },
  {
   "cell_type": "markdown",
   "id": "2a8eac52",
   "metadata": {},
   "source": [
    "#### How many distinct values that current dataset have?"
   ]
  },
  {
   "cell_type": "code",
   "execution_count": null,
   "id": "294b2a3d",
   "metadata": {},
   "outputs": [],
   "source": [
    "distinct_values_num = users.nunique(axis=0)\n",
    "distinct_values_num "
   ]
  },
  {
   "cell_type": "markdown",
   "id": "809691de",
   "metadata": {},
   "source": [
    "The strange thing is that some columns have only 1 distinct value, which has no mean for data analysis"
   ]
  },
  {
   "cell_type": "markdown",
   "id": "ae6d9a2a",
   "metadata": {},
   "source": [
    "### Data Preproccessing"
   ]
  },
  {
   "cell_type": "markdown",
   "id": "70698515",
   "metadata": {},
   "source": [
    "#### Change the dtype of \"created_at\", \"last_modified\" to datetime"
   ]
  },
  {
   "cell_type": "code",
   "execution_count": null,
   "id": "6914c0f9",
   "metadata": {},
   "outputs": [],
   "source": [
    "users.created_at = pd.to_datetime(users.created_at)\n",
    "users.last_modified= pd.to_datetime(users.last_modified) "
   ]
  },
  {
   "cell_type": "markdown",
   "id": "8bd2f4cd",
   "metadata": {},
   "source": [
    "#### Delete columns that have no or only 1 distinct values"
   ]
  },
  {
   "cell_type": "code",
   "execution_count": null,
   "id": "7b929f03",
   "metadata": {},
   "outputs": [],
   "source": [
    "users = users.loc[:,distinct_values_num>1]\n",
    "users"
   ]
  },
  {
   "cell_type": "markdown",
   "id": "bf0de0c2",
   "metadata": {},
   "source": [
    "### Data Exploration (cont.)"
   ]
  },
  {
   "cell_type": "code",
   "execution_count": null,
   "id": "8238a599",
   "metadata": {},
   "outputs": [],
   "source": [
    "rows_num, cols_num = users.shape\n",
    "print(rows_num, cols_num)"
   ]
  },
  {
   "cell_type": "markdown",
   "id": "0094858b",
   "metadata": {},
   "source": [
    "#### How does the numeric data distribute?"
   ]
  },
  {
   "cell_type": "code",
   "execution_count": null,
   "id": "2376e631",
   "metadata": {},
   "outputs": [],
   "source": [
    "# YOUR CODE HERE\n",
    "data = users.describe()\n",
    "missing_percentage = ((1-data.loc['count']/rows_num) * 100).round(1)\n",
    "nume_col_info_df = pd.DataFrame({'missing_percentage':missing_percentage,\n",
    "                                 'min': data.loc['min'],\n",
    "                              'lower_quartile': data.loc['25%'],\n",
    "                              'median': data.loc['50%'],\n",
    "                                 'upper_quartile': data.loc['75%'],\n",
    "                                'max': data.loc['max']})\n",
    "nume_col_info_df = nume_col_info_df.T\n",
    "nume_col_info_df"
   ]
  },
  {
   "cell_type": "markdown",
   "id": "f16ad807",
   "metadata": {},
   "source": [
    "#### How does the categorial data distribute?"
   ]
  },
  {
   "cell_type": "code",
   "execution_count": null,
   "id": "001333e3",
   "metadata": {},
   "outputs": [],
   "source": [
    "data = users.select_dtypes(include=['object'])\n",
    "\n",
    "diff_vals=data.stack().dropna(how='any').reset_index(level= 0,drop=True).groupby(level=0).unique().reindex(index=data.columns).rename('diff_vals')\n",
    "num_diff_vals = diff_vals.str.len().rename('num_diff_vals')\n",
    "missing_ratio = (1-data.count().rename('missing_ratio')/rows_num)*100\n",
    "\n",
    "cate_col_profiles_df = pd.concat([missing_ratio,num_diff_vals,diff_vals], axis=1)\n",
    "cate_col_profiles_df"
   ]
  },
  {
   "cell_type": "markdown",
   "id": "6281480a",
   "metadata": {},
   "source": [
    "## 3. Who are reporters that have the most interactive in each groups from 2020 to now in soundcloud?\n",
    "\n",
    "A reporter is consider as popular if that person do not create any track, but follow other artists, take others tracks to their playlists, have a large number of likes and followers."
   ]
  },
  {
   "cell_type": "code",
   "execution_count": null,
   "id": "e805ad7c",
   "metadata": {
    "scrolled": true
   },
   "outputs": [],
   "source": [
    "cols = ['followers_count','followings_count','likes_count','playlist_likes_count','playlist_count']\n",
    "data = users.loc[(users.track_count == 0)  & (users.followings_count != 0) & (users.created_at.dt.year >= 2020),cols]\n",
    "data"
   ]
  },
  {
   "cell_type": "code",
   "execution_count": null,
   "id": "80b72c16",
   "metadata": {},
   "outputs": [],
   "source": [
    "list_means = data.mean(axis = 1)"
   ]
  },
  {
   "cell_type": "markdown",
   "id": "366ac966",
   "metadata": {},
   "source": [
    "This section, we will continue to use K-Mean Agorithm for clustering analysis to find the most popular reporters."
   ]
  },
  {
   "cell_type": "code",
   "execution_count": null,
   "id": "9b62352c",
   "metadata": {},
   "outputs": [],
   "source": [
    "k = 5\n",
    "centroids = data.sample(n = k)\n",
    "new_centroids, grouping = KMeans_agorithm(data, centroids)"
   ]
  },
  {
   "cell_type": "code",
   "execution_count": null,
   "id": "bf707d38",
   "metadata": {},
   "outputs": [],
   "source": [
    "list_group = {}"
   ]
  },
  {
   "cell_type": "code",
   "execution_count": null,
   "id": "13498131",
   "metadata": {},
   "outputs": [],
   "source": [
    "for i in range(len(grouping)):\n",
    "    if grouping[i] not in list_group:\n",
    "        list_group[grouping[i]] = {}\n",
    "        list_group[grouping[i]].setdefault(i,list_means.iloc[i])\n",
    "    else:\n",
    "        list_group[grouping[i]].setdefault(i,list_means.iloc[i])"
   ]
  },
  {
   "cell_type": "code",
   "execution_count": null,
   "id": "617a24dd",
   "metadata": {},
   "outputs": [],
   "source": [
    "top = {}\n",
    "for i in list_group:\n",
    "    max_value = max(list_group[i], key=list_group[i].get)\n",
    "    top[i] = max_value"
   ]
  },
  {
   "cell_type": "code",
   "execution_count": null,
   "id": "3541ae37",
   "metadata": {},
   "outputs": [],
   "source": [
    "ls = top.values()"
   ]
  },
  {
   "cell_type": "code",
   "execution_count": null,
   "id": "7594be12",
   "metadata": {},
   "outputs": [],
   "source": [
    "ls = list(ls)"
   ]
  },
  {
   "cell_type": "code",
   "execution_count": null,
   "id": "b5acaad5",
   "metadata": {},
   "outputs": [],
   "source": [
    "q = data.iloc[ls].index"
   ]
  },
  {
   "cell_type": "code",
   "execution_count": null,
   "id": "9b8f50b4",
   "metadata": {},
   "outputs": [],
   "source": [
    "users.loc[q].permalink_url"
   ]
  },
  {
   "cell_type": "markdown",
   "id": "7db67c8a",
   "metadata": {},
   "source": [
    "As the way we have done for finding the most trending tracks, the links of these reporters as below:"
   ]
  },
  {
   "cell_type": "markdown",
   "id": "18264d52",
   "metadata": {},
   "source": []
  },
  {
   "cell_type": "markdown",
   "id": "f6112aab",
   "metadata": {},
   "source": [
    "### Conclusion\n",
    "\n",
    "After this result, the SoundCloud platform can use it to recommend the playlists of these reporters as the most popular playlists in its homepage. Because the playlists of these reporters are very catching and loved by the public, which makes these reporters have a large number of followers and likes."
   ]
  },
  {
   "cell_type": "markdown",
   "id": "9a63f34f",
   "metadata": {},
   "source": [
    "## 4. Which genre that users like the most?"
   ]
  },
  {
   "cell_type": "code",
   "execution_count": null,
   "id": "9dbde579",
   "metadata": {},
   "outputs": [],
   "source": [
    "convert = tracks['genre'].values"
   ]
  },
  {
   "cell_type": "code",
   "execution_count": null,
   "id": "9ee5364b",
   "metadata": {},
   "outputs": [],
   "source": [
    "for i in range(0, len(convert)):\n",
    "    if type(convert[i]) != str:\n",
    "        convert[i] = 'free'"
   ]
  },
  {
   "cell_type": "code",
   "execution_count": null,
   "id": "9317e6e1",
   "metadata": {},
   "outputs": [],
   "source": [
    "tracks['genre'] = convert"
   ]
  },
  {
   "cell_type": "code",
   "execution_count": null,
   "id": "72c0041a",
   "metadata": {},
   "outputs": [],
   "source": [
    "playlist = pd.read_csv('playlists.csv')"
   ]
  },
  {
   "cell_type": "code",
   "execution_count": null,
   "id": "0827d3a5",
   "metadata": {},
   "outputs": [],
   "source": [
    "p = []"
   ]
  },
  {
   "cell_type": "code",
   "execution_count": null,
   "id": "444e8628",
   "metadata": {},
   "outputs": [],
   "source": [
    "for temp in playlist['list_tracks']:\n",
    "    if temp != []:\n",
    "        temp =  temp.rstrip(']')\n",
    "        temp =  temp.lstrip('[')\n",
    "        temp = temp.split(', ')\n",
    "        if '' in temp:\n",
    "            temp.remove('')\n",
    "        temp = [int(i) for i in temp]\n",
    "        p.append(temp)\n",
    "    else:\n",
    "        p.append(NaN)"
   ]
  },
  {
   "cell_type": "code",
   "execution_count": null,
   "id": "67839fa9",
   "metadata": {},
   "outputs": [],
   "source": [
    "playlist['list_tracks'] = p"
   ]
  },
  {
   "cell_type": "code",
   "execution_count": null,
   "id": "6191ca7f",
   "metadata": {},
   "outputs": [],
   "source": [
    "def return_list_tracks(users):\n",
    "    list_users = {}\n",
    "    for index, row in playlist.iterrows():\n",
    "        if row['user_id'] not in list_users:\n",
    "            list_users[row['user_id']] = row['list_tracks']\n",
    "        else:\n",
    "            list_users[row['user_id']].extend(row['list_tracks'])\n",
    "    return list_users\n",
    "        "
   ]
  },
  {
   "cell_type": "code",
   "execution_count": null,
   "id": "5cf140d8",
   "metadata": {},
   "outputs": [],
   "source": [
    "list_data= return_list_tracks(list(playlist.index))"
   ]
  },
  {
   "cell_type": "code",
   "execution_count": null,
   "id": "91097ec1",
   "metadata": {},
   "outputs": [],
   "source": [
    "genres= {}\n",
    "\n",
    "for user in list_data:\n",
    "    genres[user] = []\n",
    "    for track in list_data[user]:\n",
    "        if track in tracks.index:\n",
    "            genre = tracks.loc[track]['genre']\n",
    "            genres[user].append(genre)\n",
    "        "
   ]
  },
  {
   "cell_type": "code",
   "execution_count": null,
   "id": "818123dd",
   "metadata": {},
   "outputs": [],
   "source": [
    "results = {}\n",
    "for user in genres:\n",
    "    after = []\n",
    "    for genre in genres[user]:\n",
    "        if type(genre) == str:\n",
    "            after.append(genre)\n",
    "    u = dict([x,after.count(x)] for x in set(after))\n",
    "    if u != {}:\n",
    "        max_value = max(u, key=u.get)\n",
    "        results[user] = max_value\n",
    "    else:\n",
    "        results[user] = None\n",
    "    \n",
    "    \n",
    "        "
   ]
  },
  {
   "cell_type": "code",
   "execution_count": null,
   "id": "bade05db",
   "metadata": {},
   "outputs": [],
   "source": [
    "print(results)"
   ]
  },
  {
   "cell_type": "markdown",
   "id": "232cb39a",
   "metadata": {},
   "source": [
    "There has users they don't store tracks in their playlists, so we can't not know what kind of genre they likes. The data of these users will be None. Others all genres of users will be stored in results variable."
   ]
  },
  {
   "cell_type": "markdown",
   "id": "ad0fc6dd",
   "metadata": {},
   "source": [
    "## 5. Which tracks that users like the most?\n",
    "\n",
    "Only consider on this data\n",
    "We consider on the average of likes count, playback count and reports count."
   ]
  },
  {
   "cell_type": "code",
   "execution_count": null,
   "id": "62175f69",
   "metadata": {},
   "outputs": [],
   "source": [
    "handle_data = tracks[['likes_count', 'playback_count', 'reposts_count']]"
   ]
  },
  {
   "cell_type": "code",
   "execution_count": null,
   "id": "38dccf1a",
   "metadata": {},
   "outputs": [],
   "source": [
    "pos = handle_data.mean(axis = 1).argmax()"
   ]
  },
  {
   "cell_type": "code",
   "execution_count": null,
   "id": "6f28ab9c",
   "metadata": {},
   "outputs": [],
   "source": [
    "id_track = tracks.iloc[pos].name"
   ]
  },
  {
   "cell_type": "markdown",
   "id": "7e816f51",
   "metadata": {},
   "source": [
    "The track users like the most has the id is: "
   ]
  },
  {
   "cell_type": "code",
   "execution_count": null,
   "id": "7c458c4d",
   "metadata": {},
   "outputs": [],
   "source": [
    "id_track"
   ]
  },
  {
   "cell_type": "markdown",
   "id": "3498c031",
   "metadata": {},
   "source": [
    "Link track:"
   ]
  },
  {
   "cell_type": "code",
   "execution_count": null,
   "id": "6ead6b0b",
   "metadata": {},
   "outputs": [],
   "source": [
    "print(tracks.iloc[pos].permalink_url)"
   ]
  },
  {
   "cell_type": "markdown",
   "id": "73fd4161",
   "metadata": {},
   "source": [
    "## 6. Find the relationship between followers_count and following_count"
   ]
  },
  {
   "cell_type": "code",
   "execution_count": null,
   "id": "f5fda4c3",
   "metadata": {},
   "outputs": [],
   "source": [
    "users_df = pd.read_csv('user.csv')\n",
    "users_df.head()"
   ]
  },
  {
   "cell_type": "code",
   "execution_count": null,
   "id": "e0272a8c",
   "metadata": {},
   "outputs": [],
   "source": [
    "users_df = users_df.drop_duplicates() if (users_df.duplicated()).any() else users_df"
   ]
  },
  {
   "cell_type": "code",
   "execution_count": null,
   "id": "e6a113f4",
   "metadata": {},
   "outputs": [],
   "source": [
    "rows_users = len(users_df)\n",
    "cols_users = len(users_df.columns)\n",
    "print ('rows: ', rows_users, '\\ncols: ',cols_users)\n",
    "attribute_users = users_df.columns"
   ]
  },
  {
   "cell_type": "code",
   "execution_count": null,
   "id": "4bdf3ac8",
   "metadata": {},
   "outputs": [],
   "source": [
    "users_df[attribute_users].isnull().sum(axis=0)/users_df[attribute_users].isnull().count(axis=0) * 100"
   ]
  },
  {
   "cell_type": "code",
   "execution_count": null,
   "id": "e5f410d8",
   "metadata": {},
   "outputs": [],
   "source": [
    "users_df=users_df[['id','username','full_name','followers_count','followings_count','playlist_count','track_count','permalink_url']]"
   ]
  },
  {
   "cell_type": "code",
   "execution_count": null,
   "id": "2c39af48",
   "metadata": {},
   "outputs": [],
   "source": [
    "df=users_df[:].copy()\n",
    "\n",
    "# prepare for the linear regression\n",
    "X=np.ones(shape=(df.shape[0],2))\n",
    "X[:,0]=np.array(df['followings_count'])\n",
    "y=np.array(df['followers_count'])"
   ]
  },
  {
   "cell_type": "code",
   "execution_count": null,
   "id": "799efce5",
   "metadata": {},
   "outputs": [],
   "source": [
    "# linearRegression class\n",
    "class OLSLinearRegression:\n",
    "    def fit(self, X, y): # calculate weights\n",
    "\n",
    "        self.w =np.linalg.pinv(X) @ y\n",
    "        return self\n",
    "\n",
    "    def get_params(self):\n",
    "        return self.w\n",
    "\n",
    "    def predict(self, X): # predict\n",
    "        return np.sum(self.w.ravel() * X, axis=1)   \n",
    "\n",
    "# Hàm tính rmse \n",
    "def rmse(y_test,y_predict):\n",
    "    return np.sqrt(np.mean((y_predict-y_test)**2))"
   ]
  },
  {
   "cell_type": "code",
   "execution_count": null,
   "id": "4a147b34",
   "metadata": {},
   "outputs": [],
   "source": [
    "w=OLSLinearRegression().fit(X,y)\n",
    "w.get_params()"
   ]
  },
  {
   "cell_type": "code",
   "execution_count": null,
   "id": "c0b489dd",
   "metadata": {},
   "outputs": [],
   "source": [
    "print('rmse=',rmse(y,w.predict(X)))\n",
    "\n",
    "plt.figure(figsize=(10,6))\n",
    "\n",
    "plt.title('followings_count vs followers_count')\n",
    "plt.xlabel('followings_count')\n",
    "plt.ylabel('followers_count')\n",
    "\n",
    "plt.scatter(X[:,0], y, color ='b',alpha=0.3)\n",
    "plt.plot(X[:,0], w.predict(X), color ='k')\n",
    "plt.show()\n"
   ]
  },
  {
   "cell_type": "markdown",
   "id": "51858e31",
   "metadata": {},
   "source": [
    "Look at chart, we can see there are quite few popular users. There are few people who have less followings_count but have much more following_count than other people. And the rmse is 36.4627, so that users are quite fit to the linear, the number of followers is directly proportional to the number of followings. \n",
    "\n",
    "*followers_count = 0.16685729 \\* followings_count + 2.70837616*"
   ]
  },
  {
   "cell_type": "markdown",
   "id": "613f1e0c",
   "metadata": {},
   "source": [
    "## 7. Who is the most popular reposter?"
   ]
  },
  {
   "cell_type": "markdown",
   "id": "22850fcf",
   "metadata": {},
   "source": [
    "Take out the reposters from the data"
   ]
  },
  {
   "cell_type": "code",
   "execution_count": null,
   "id": "785ee5ed",
   "metadata": {},
   "outputs": [],
   "source": [
    "reposter_df= users_df[(users_df['track_count']==0) & (users_df['followers_count']>10) & (users_df['playlist_count']>0)].iloc[:,:]\n",
    "reposter_df\n",
    "# users_df['track_count']"
   ]
  },
  {
   "cell_type": "code",
   "execution_count": null,
   "id": "d5190dfa",
   "metadata": {},
   "outputs": [],
   "source": [
    "\n",
    "plt.figure(figsize=(10,6))\n",
    "\n",
    "plt.title('reposters')\n",
    "plt.xlabel('followers_count')\n",
    "plt.ylabel('playlist_count')\n",
    "\n",
    "plt.scatter(reposter_df['followers_count'], reposter_df['playlist_count'], color ='b',alpha=0.3)\n",
    "# plt.plot(X, w.predict(X), color ='k')\n",
    "plt.show()"
   ]
  },
  {
   "cell_type": "markdown",
   "id": "fc2e53e4",
   "metadata": {},
   "source": [
    "The most popular reposter is"
   ]
  },
  {
   "cell_type": "code",
   "execution_count": null,
   "id": "d6683e9b",
   "metadata": {},
   "outputs": [],
   "source": [
    "reposter_df[reposter_df['followers_count']==max(reposter_df['followers_count'])]"
   ]
  }
 ],
 "metadata": {
  "kernelspec": {
   "display_name": "Python 3 (ipykernel)",
   "language": "python",
   "name": "python3"
  },
  "language_info": {
   "codemirror_mode": {
    "name": "ipython",
    "version": 3
   },
   "file_extension": ".py",
   "mimetype": "text/x-python",
   "name": "python",
   "nbconvert_exporter": "python",
   "pygments_lexer": "ipython3",
   "version": "3.9.13"
  }
 },
 "nbformat": 4,
 "nbformat_minor": 5
}
